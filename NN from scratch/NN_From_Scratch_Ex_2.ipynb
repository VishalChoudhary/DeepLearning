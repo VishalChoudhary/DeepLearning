{
 "cells": [
  {
   "cell_type": "markdown",
   "metadata": {},
   "source": [
    "# Simple Linear Regression. Minimal example"
   ]
  },
  {
   "cell_type": "markdown",
   "metadata": {},
   "source": [
    "# Using the same code as before, please solve the following exercises\n",
    "    6. Create a function f(x,z) = 13*xs + 7*zs - 12. Does the algorithm work in the same way?\n",
    "    \n",
    "    \n",
    "Useful tip: When you change something, don't forget to RERUN all cells. This can be done easily by clicking:\n",
    "Kernel -> Restart & Run All\n",
    "If you don't do that, your algorithm will keep the OLD values of all parameters.\n",
    "\n",
    "## Solution\n",
    "\n",
    "Find the line of code, where we declare the targets, and change it from:\n",
    "\n",
    "targets = 2*xs - 3*zs + 5 + noise\n",
    "\n",
    "to \n",
    "\n",
    "targets = 13*xs + 7*zs - 12 + noise\n",
    "\n",
    "Some takeaways:\n",
    "\n",
    "1. The solution is almost found, judging by the values of the loss and those of the weights and biases.\n",
    "2. I would say this algorithm is AS effective as that in the lecture. Still needs more iterations.\n",
    "3. All else equal, the values of the loss are higher, as the values of the targets are higher.\n",
    "4. The same algorithm and methodology solved a completely different problem. That's machine learning for you. \n",
    "\n",
    "See you in the next section!"
   ]
  },
  {
   "cell_type": "markdown",
   "metadata": {},
   "source": [
    "### Import the relevant libraries"
   ]
  },
  {
   "cell_type": "code",
   "execution_count": 1,
   "metadata": {},
   "outputs": [],
   "source": [
    "import numpy as np\n",
    "import matplotlib.pyplot as plt\n",
    "from mpl_toolkits.mplot3d import Axes3D"
   ]
  },
  {
   "cell_type": "markdown",
   "metadata": {},
   "source": [
    "### Generate random input data to train on"
   ]
  },
  {
   "cell_type": "code",
   "execution_count": 2,
   "metadata": {},
   "outputs": [],
   "source": [
    "n=100000\n",
    "xs=np.random.uniform(-10,10,(n,1))\n",
    "zs=np.random.uniform(-10,10,(n,1))"
   ]
  },
  {
   "cell_type": "code",
   "execution_count": 4,
   "metadata": {},
   "outputs": [
    {
     "data": {
      "text/plain": [
       "(100000, 2)"
      ]
     },
     "execution_count": 4,
     "metadata": {},
     "output_type": "execute_result"
    }
   ],
   "source": [
    "inputs=np.column_stack((xs,zs))\n",
    "inputs.shape"
   ]
  },
  {
   "cell_type": "markdown",
   "metadata": {},
   "source": [
    "### Generate the targets we will aim at"
   ]
  },
  {
   "cell_type": "code",
   "execution_count": 19,
   "metadata": {},
   "outputs": [
    {
     "name": "stdout",
     "output_type": "stream",
     "text": [
      "(100000, 1)\n"
     ]
    }
   ],
   "source": [
    "noise=np.random.uniform(-1,1,(n,1))\n",
    "\n",
    "target=13*xs+7*zs-12+noise\n",
    "print(target.shape)"
   ]
  },
  {
   "cell_type": "markdown",
   "metadata": {},
   "source": [
    "### Initialize variables"
   ]
  },
  {
   "cell_type": "code",
   "execution_count": 20,
   "metadata": {},
   "outputs": [],
   "source": [
    "inti_wt=0.1\n",
    "weights=np.random.uniform(-inti_wt,inti_wt,(2,1))\n",
    "bias=np.random.uniform(-inti_wt,inti_wt,1)"
   ]
  },
  {
   "cell_type": "code",
   "execution_count": 22,
   "metadata": {},
   "outputs": [
    {
     "name": "stdout",
     "output_type": "stream",
     "text": [
      "[[-0.05906203]\n",
      " [ 0.05200636]] [0.04196613]\n"
     ]
    }
   ],
   "source": [
    "print(weights,bias)"
   ]
  },
  {
   "cell_type": "markdown",
   "metadata": {},
   "source": [
    "### Set a learning rate"
   ]
  },
  {
   "cell_type": "code",
   "execution_count": 25,
   "metadata": {},
   "outputs": [],
   "source": [
    "learning_rate=0.02"
   ]
  },
  {
   "cell_type": "markdown",
   "metadata": {},
   "source": [
    "### Train the model"
   ]
  },
  {
   "cell_type": "code",
   "execution_count": 26,
   "metadata": {},
   "outputs": [
    {
     "name": "stdout",
     "output_type": "stream",
     "text": [
      "3731.524546196357\n",
      "470.45298484993236\n",
      "110.96749810306787\n",
      "69.26011735126492\n",
      "62.43802409554051\n",
      "59.52473363669764\n",
      "57.12519551468155\n",
      "54.86429723413264\n",
      "52.69770579112932\n",
      "50.61743378936361\n",
      "48.61959735304707\n",
      "46.70088106827215\n",
      "44.85814621219688\n",
      "43.08838332576389\n",
      "41.388702668121944\n",
      "39.75632899111674\n",
      "38.18859695233531\n",
      "36.68294675705152\n",
      "35.23691997792513\n",
      "33.848155540805564\n",
      "32.51438586955967\n",
      "31.233433183569904\n",
      "30.00320594185154\n",
      "28.821695427982323\n",
      "27.686972470267904\n",
      "26.597184291788178\n",
      "25.550551485181067\n",
      "24.545365107224207\n",
      "23.579983888470434\n",
      "22.652831553381255\n",
      "21.762394246582417\n",
      "20.907218061039032\n",
      "20.085906664114738\n",
      "19.297119017637883\n",
      "18.53956718825328\n",
      "17.812014244482807\n",
      "17.1132722370626\n",
      "16.442200259257987\n",
      "15.797702583989732\n",
      "15.178726874729593\n",
      "14.584262467244216\n",
      "14.013338719381183\n",
      "13.46502342620367\n",
      "12.938421297884965\n",
      "12.432672497878377\n",
      "11.94695123897511\n",
      "11.480464434958009\n",
      "11.032450405649373\n",
      "10.602177633238895\n",
      "10.188943567860392\n",
      "9.792073480467716\n",
      "9.410919361136333\n",
      "9.044858860991987\n",
      "8.693294276038843\n",
      "8.355651571227641\n",
      "8.031379443170671\n",
      "7.719948419972934\n",
      "7.420849996709924\n",
      "7.133595805140122\n",
      "6.85771681629684\n",
      "6.592762574657167\n",
      "6.338300462637696\n",
      "6.093914994216101\n",
      "5.859207136524973\n",
      "5.633793658310604\n",
      "5.4173065041925605\n",
      "5.209392193702389\n",
      "5.009711244120348\n",
      "4.8179376161676535\n",
      "4.633758181649144\n",
      "4.45687221217723\n",
      "4.28699088814225\n",
      "4.123836827127476\n",
      "3.967143630998794\n",
      "3.8166554509295523\n",
      "3.672126569650258\n",
      "3.5333210002412065\n",
      "3.4000121008127415\n",
      "3.271982204444101\n",
      "3.1490222637766854\n",
      "3.030931509681235\n",
      "2.9175171234417956\n",
      "2.808593921921113\n",
      "2.70398405519338\n",
      "2.6035167161506876\n",
      "2.5070278616089885\n",
      "2.414359944458182\n",
      "2.3253616564190476\n",
      "2.239887680986889\n",
      "2.1577984561586128\n",
      "2.0789599465556896\n",
      "2.0032434245710853\n",
      "1.9305252601826404\n",
      "1.8606867190898484\n",
      "1.7936137688443605\n",
      "1.7291968926576584\n",
      "1.6673309105819503\n",
      "1.6079148077721996\n",
      "1.550851569548987\n",
      "1.4960480229928468\n"
     ]
    }
   ],
   "source": [
    "for i in range(100):\n",
    "    outputs=np.dot(inputs,weights)+bias\n",
    "    deltas=outputs-target\n",
    "     \n",
    "    # We are considering the L2-norm loss, but divided by 2, so it is consistent with the lectures.\n",
    "    # Moreover, we further divide it by the number of observations(n).\n",
    "    # This is simple rescaling by a constant. We explained that this doesn't change the optimization logic,\n",
    "    # as any function holding the basic property of being lower for better results, and higher for worse results\n",
    "    # can be a loss function.\n",
    "    loss=np.sum(deltas**2)/2/n\n",
    "    \n",
    "    print(loss)\n",
    "    \n",
    "    deltas_scaled=deltas/n\n",
    "    \n",
    "    # Applying Gradient Descent to update the weight and bias\n",
    "    weights=weights-learning_rate*np.dot(inputs.T,deltas_scaled)\n",
    "    bias=bias-learning_rate*np.sum(deltas_scaled)"
   ]
  },
  {
   "cell_type": "markdown",
   "metadata": {},
   "source": [
    "### Print weights and biases and see if we have worked correctly."
   ]
  },
  {
   "cell_type": "code",
   "execution_count": 27,
   "metadata": {},
   "outputs": [
    {
     "name": "stdout",
     "output_type": "stream",
     "text": [
      "[[13.00019159]\n",
      " [ 6.99959333]] [-10.40392368]\n"
     ]
    }
   ],
   "source": [
    "print(weights,bias)"
   ]
  },
  {
   "cell_type": "markdown",
   "metadata": {},
   "source": [
    "### Plot last outputs vs targets\n",
    "Since they are the last ones at the end of the training, they represent the final model accuracy. <br/>\n",
    "The closer this plot is to a 45 degree line, the closer target and output values are."
   ]
  },
  {
   "cell_type": "code",
   "execution_count": 31,
   "metadata": {},
   "outputs": [
    {
     "data": {
      "image/png": "[encoded data removed]",
      "text/plain": [
       "<Figure size 432x288 with 1 Axes>"
      ]
     },
     "metadata": {
      "needs_background": "light"
     },
     "output_type": "display_data"
    }
   ],
   "source": [
    "plt.plot(outputs,target)\n",
    "plt.xlabel('outputs')\n",
    "plt.ylabel('targets')\n",
    "plt.show()"
   ]
  }
 ],
 "metadata": {
  "anaconda-cloud": {},
  "kernelspec": {
   "display_name": "Python 3 (ipykernel)",
   "language": "python",
   "name": "python3"
  },
  "language_info": {
   "codemirror_mode": {
    "name": "ipython",
    "version": 3
   },
   "file_extension": ".py",
   "mimetype": "text/x-python",
   "name": "python",
   "nbconvert_exporter": "python",
   "pygments_lexer": "ipython3",
   "version": "3.9.7"
  }
 },
 "nbformat": 4,
 "nbformat_minor": 1
}
