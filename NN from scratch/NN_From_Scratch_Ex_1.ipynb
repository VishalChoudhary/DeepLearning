{
 "cells": [
  {
   "cell_type": "markdown",
   "id": "460d9ae2",
   "metadata": {},
   "source": [
    "#### Importing all the libraries"
   ]
  },
  {
   "cell_type": "code",
   "execution_count": 1,
   "id": "63150ac5",
   "metadata": {},
   "outputs": [],
   "source": [
    "import numpy as np\n",
    "import matplotlib.pyplot as plt\n",
    "from mpl_toolkits.mplot3d import Axes3D"
   ]
  },
  {
   "cell_type": "markdown",
   "id": "14fec89f",
   "metadata": {},
   "source": [
    "#### Generation random input data"
   ]
  },
  {
   "cell_type": "code",
   "execution_count": 3,
   "id": "40a68e26",
   "metadata": {},
   "outputs": [],
   "source": [
    "n=1000\n",
    "\n",
    "xs=np.random.uniform(low=-10,high=10,size=(n,1))\n",
    "zs=np.random.uniform(-10,10,size=(n,1))\n",
    "\n",
    "inputs=np.column_stack((xs,zs))"
   ]
  },
  {
   "cell_type": "code",
   "execution_count": 4,
   "id": "6cb9a20d",
   "metadata": {},
   "outputs": [
    {
     "data": {
      "text/plain": [
       "(1000, 2)"
      ]
     },
     "execution_count": 4,
     "metadata": {},
     "output_type": "execute_result"
    }
   ],
   "source": [
    "inputs.shape"
   ]
  },
  {
   "cell_type": "markdown",
   "id": "a0a89d59",
   "metadata": {},
   "source": [
    "#### Genrating the target"
   ]
  },
  {
   "cell_type": "code",
   "execution_count": 14,
   "id": "cbb54aac",
   "metadata": {},
   "outputs": [],
   "source": [
    "noise=np.random.uniform(-1,1,(n,1))\n",
    "\n",
    "target=2*xs-3*zs+5+noise"
   ]
  },
  {
   "cell_type": "code",
   "execution_count": 15,
   "id": "f75bed57",
   "metadata": {},
   "outputs": [
    {
     "data": {
      "text/plain": [
       "(1000, 1)"
      ]
     },
     "execution_count": 15,
     "metadata": {},
     "output_type": "execute_result"
    }
   ],
   "source": [
    "target.shape"
   ]
  },
  {
   "cell_type": "markdown",
   "id": "bd32cec9",
   "metadata": {},
   "source": [
    "##### Initialize Variable"
   ]
  },
  {
   "cell_type": "code",
   "execution_count": 29,
   "id": "13b40fb7",
   "metadata": {},
   "outputs": [],
   "source": [
    "init_range=0.1\n",
    "weights=np.random.uniform(low=-init_range,high=init_range,size=(2,1))\n",
    "bias=np.random.uniform(low=-init_range,high=init_range,size=1)"
   ]
  },
  {
   "cell_type": "code",
   "execution_count": 30,
   "id": "0809ec49",
   "metadata": {},
   "outputs": [
    {
     "name": "stdout",
     "output_type": "stream",
     "text": [
      "[[-0.03451737]\n",
      " [-0.07770293]]\n",
      "[0.08189272]\n"
     ]
    }
   ],
   "source": [
    "print(weights)\n",
    "print(bias)"
   ]
  },
  {
   "cell_type": "markdown",
   "id": "34e901b4",
   "metadata": {},
   "source": [
    "##### Set a Learning Rate"
   ]
  },
  {
   "cell_type": "code",
   "execution_count": 31,
   "id": "d8c0749e",
   "metadata": {},
   "outputs": [],
   "source": [
    "learning_rate=0.02"
   ]
  },
  {
   "cell_type": "markdown",
   "id": "d7a86453",
   "metadata": {},
   "source": [
    "### Train a model"
   ]
  },
  {
   "cell_type": "code",
   "execution_count": 35,
   "id": "fcedc90e",
   "metadata": {},
   "outputs": [
    {
     "name": "stdout",
     "output_type": "stream",
     "text": [
      "0.3883862241973975\n",
      "0.37987552914166317\n",
      "0.37170134443615177\n",
      "0.3638503645617401\n",
      "0.35630981009557366\n",
      "0.3490674069093756\n",
      "0.3421113661902466\n",
      "0.3354303652514454\n",
      "0.32901352910189124\n",
      "0.32285041274441884\n",
      "0.3169309841739404\n",
      "0.3112456080478657\n",
      "0.3057850300021837\n",
      "0.30054036158768116\n",
      "0.2955030658017845\n",
      "0.29066494319245934\n",
      "0.28601811851156717\n",
      "0.28155502789593584\n",
      "0.27726840655529417\n",
      "0.27315127694701613\n",
      "0.26919693741843387\n",
      "0.2653989512982331\n",
      "0.26175113641916886\n",
      "0.25824755505504804\n",
      "0.2548825042556051\n",
      "0.2516505065635313\n",
      "0.2485463010985503\n",
      "0.2455648349940257\n",
      "0.2427012551721661\n",
      "0.23995090044442974\n",
      "0.23730929392428493\n",
      "0.2347721357399601\n",
      "0.2323352960353343\n",
      "0.22999480824757013\n",
      "0.22774686265054248\n",
      "0.2255878001535656\n",
      "0.2235141063453095\n",
      "0.2215224057732225\n",
      "0.2196094564491431\n",
      "0.21777214457215707\n",
      "0.21600747946011115\n",
      "0.2143125886815355\n",
      "0.21268471338004474\n",
      "0.21112120378361554\n",
      "0.20961951489142058\n",
      "0.20817720233120918\n",
      "0.20679191838048114\n",
      "0.20546140814498626\n",
      "0.20418350588832113\n",
      "0.20295613150665634\n",
      "0.20177728714284832\n",
      "0.20064505393443077\n",
      "0.19955758889018813\n",
      "0.1985131218902292\n",
      "0.1975099528046768\n",
      "0.19654644872628335\n",
      "0.19562104131246735\n",
      "0.19473222423244727\n",
      "0.19387855071531118\n",
      "0.19305863119504002\n",
      "0.1922711310486406\n",
      "0.19151476842371634\n",
      "0.1907883121519323\n",
      "0.19009057974498417\n",
      "0.18942043546980272\n",
      "0.18877678849986662\n",
      "0.18815859113961028\n",
      "0.18756483711903946\n",
      "0.18699455995577566\n",
      "0.1864468313818666\n",
      "0.18592075983279804\n",
      "0.18541548899625185\n",
      "0.184930196418244\n",
      "0.18446409216437587\n",
      "0.1840164175340208\n",
      "0.18358644382534828\n",
      "0.18317347114918178\n",
      "0.18277682728975442\n",
      "0.18239586661051124\n",
      "0.18202996900317395\n",
      "0.18167853887836105\n",
      "0.18134100419611832\n",
      "0.1810168155347813\n",
      "0.18070544519665385\n",
      "0.18040638634905057\n",
      "0.18011915219929933\n",
      "0.1798432752023651\n",
      "0.17957830629980526\n",
      "0.17932381418881313\n",
      "0.17907938462016795\n",
      "0.17884461972393925\n",
      "0.17861913736185506\n",
      "0.17840257050527744\n",
      "0.17819456663777142\n",
      "0.17799478718129694\n",
      "0.17780290694508893\n",
      "0.17761861359632827\n",
      "0.17744160715174256\n",
      "0.17727159948930943\n",
      "0.1771083138792646\n"
     ]
    }
   ],
   "source": [
    "for i in range(100):\n",
    "    outputs=np.dot(inputs,weights)+bias\n",
    "    deltas=outputs-target\n",
    "     \n",
    "    # We are considering the L2-norm loss, but divided by 2, so it is consistent with the lectures.\n",
    "    # Moreover, we further divide it by the number of observations(n).\n",
    "    # This is simple rescaling by a constant. We explained that this doesn't change the optimization logic,\n",
    "    # as any function holding the basic property of being lower for better results, and higher for worse results\n",
    "    # can be a loss function.\n",
    "    loss=np.sum(deltas**2)/2/n\n",
    "    \n",
    "    print(loss)\n",
    "    \n",
    "    deltas_scaled=deltas/n\n",
    "    \n",
    "    # Applying Gradient Descent to update the weight and bias\n",
    "    weights=weights-learning_rate*np.dot(inputs.T,deltas_scaled)\n",
    "    bias=bias-learning_rate*np.sum(deltas_scaled)"
   ]
  },
  {
   "cell_type": "code",
   "execution_count": 36,
   "id": "0e02dc5b",
   "metadata": {},
   "outputs": [
    {
     "name": "stdout",
     "output_type": "stream",
     "text": [
      "[[ 2.00285473]\n",
      " [-3.00105046]] [4.91907351]\n"
     ]
    }
   ],
   "source": [
    "print(weights,bias)"
   ]
  },
  {
   "cell_type": "code",
   "execution_count": 38,
   "id": "12110c06",
   "metadata": {},
   "outputs": [
    {
     "data": {
      "image/png": "[encoded data removed]",
      "text/plain": [
       "<Figure size 432x288 with 1 Axes>"
      ]
     },
     "metadata": {
      "needs_background": "light"
     },
     "output_type": "display_data"
    }
   ],
   "source": [
    "plt.plot(outputs,target)\n",
    "plt.xlabel('outputs')\n",
    "plt.ylabel('targets')\n",
    "plt.show()"
   ]
  }
 ],
 "metadata": {
  "kernelspec": {
   "display_name": "Python 3 (ipykernel)",
   "language": "python",
   "name": "python3"
  },
  "language_info": {
   "codemirror_mode": {
    "name": "ipython",
    "version": 3
   },
   "file_extension": ".py",
   "mimetype": "text/x-python",
   "name": "python",
   "nbconvert_exporter": "python",
   "pygments_lexer": "ipython3",
   "version": "3.9.7"
  }
 },
 "nbformat": 4,
 "nbformat_minor": 5
}
