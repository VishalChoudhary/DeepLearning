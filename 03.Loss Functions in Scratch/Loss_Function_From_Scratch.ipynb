{
 "cells": [
  {
   "cell_type": "code",
   "execution_count": 1,
   "id": "def655db",
   "metadata": {},
   "outputs": [],
   "source": [
    "import numpy as np"
   ]
  },
  {
   "cell_type": "code",
   "execution_count": 2,
   "id": "17836e7c",
   "metadata": {},
   "outputs": [],
   "source": [
    "y_predicted = np.array([1,1,0,0,1])\n",
    "y_true = np.array([0.30,0.7,1,0,0.5])"
   ]
  },
  {
   "cell_type": "markdown",
   "id": "486b563a",
   "metadata": {},
   "source": [
    "### Mean Absolute Error"
   ]
  },
  {
   "cell_type": "code",
   "execution_count": 5,
   "id": "73b137c2",
   "metadata": {},
   "outputs": [
    {
     "name": "stdout",
     "output_type": "stream",
     "text": [
      "Total error:  2.5\n",
      "Mean Absolute Error:  0.5\n"
     ]
    }
   ],
   "source": [
    "def mae(y_predicted,y_true):\n",
    "    total_error=0\n",
    "    for yp,yt in zip(y_predicted,y_true):\n",
    "        total_error+=abs(yp-yt)\n",
    "    print(\"Total error: \",total_error)\n",
    "    mae=total_error/len(y_true)\n",
    "    print(\"Mean Absolute Error: \",mae)\n",
    "    \n",
    "mae(y_predicted,y_true)"
   ]
  },
  {
   "cell_type": "markdown",
   "id": "87530e64",
   "metadata": {},
   "source": [
    "#### By using numpy"
   ]
  },
  {
   "cell_type": "code",
   "execution_count": 6,
   "id": "b5815050",
   "metadata": {},
   "outputs": [
    {
     "data": {
      "text/plain": [
       "array([0.7, 0.3, 1. , 0. , 0.5])"
      ]
     },
     "execution_count": 6,
     "metadata": {},
     "output_type": "execute_result"
    }
   ],
   "source": [
    "np.abs(y_predicted-y_true)"
   ]
  },
  {
   "cell_type": "code",
   "execution_count": 7,
   "id": "6c4cfa09",
   "metadata": {},
   "outputs": [
    {
     "data": {
      "text/plain": [
       "0.5"
      ]
     },
     "execution_count": 7,
     "metadata": {},
     "output_type": "execute_result"
    }
   ],
   "source": [
    "np.mean(np.abs(y_predicted-y_true))"
   ]
  },
  {
   "cell_type": "markdown",
   "id": "28aa99cc",
   "metadata": {},
   "source": [
    "### Log Loss or Binary Cross Entropy"
   ]
  },
  {
   "cell_type": "code",
   "execution_count": 10,
   "id": "14fd0520",
   "metadata": {},
   "outputs": [
    {
     "name": "stderr",
     "output_type": "stream",
     "text": [
      "C:\\Users\\visha\\AppData\\Local\\Temp/ipykernel_11492/2933082444.py:1: RuntimeWarning: divide by zero encountered in log\n",
      "  np.log(0)\n"
     ]
    },
    {
     "data": {
      "text/plain": [
       "-inf"
      ]
     },
     "execution_count": 10,
     "metadata": {},
     "output_type": "execute_result"
    }
   ],
   "source": [
    "np.log(0)"
   ]
  },
  {
   "cell_type": "code",
   "execution_count": 11,
   "id": "2dc6641c",
   "metadata": {},
   "outputs": [],
   "source": [
    "epsillon= 1e-15"
   ]
  },
  {
   "cell_type": "code",
   "execution_count": 12,
   "id": "44cdfb41",
   "metadata": {},
   "outputs": [
    {
     "data": {
      "text/plain": [
       "-34.538776394910684"
      ]
     },
     "execution_count": 12,
     "metadata": {},
     "output_type": "execute_result"
    }
   ],
   "source": [
    "np.log(epsillon)"
   ]
  },
  {
   "cell_type": "code",
   "execution_count": 17,
   "id": "6c653886",
   "metadata": {},
   "outputs": [
    {
     "data": {
      "text/plain": [
       "[1, 1, 1e-15, 1e-15, 1]"
      ]
     },
     "execution_count": 17,
     "metadata": {},
     "output_type": "execute_result"
    }
   ],
   "source": [
    "y_pred_new=[max(i,epsillon) for i in y_predicted]\n",
    "y_pred_new"
   ]
  },
  {
   "cell_type": "code",
   "execution_count": 18,
   "id": "9033f427",
   "metadata": {},
   "outputs": [
    {
     "data": {
      "text/plain": [
       "[0.999999999999999, 0.999999999999999, 1e-15, 1e-15, 0.999999999999999]"
      ]
     },
     "execution_count": 18,
     "metadata": {},
     "output_type": "execute_result"
    }
   ],
   "source": [
    "y_pred_new=[min(i,1-epsillon) for i in y_pred_new]\n",
    "y_pred_new"
   ]
  },
  {
   "cell_type": "code",
   "execution_count": 19,
   "id": "bd1b9eaa",
   "metadata": {},
   "outputs": [
    {
     "data": {
      "text/plain": [
       "array([1.e+00, 1.e+00, 1.e-15, 1.e-15, 1.e+00])"
      ]
     },
     "execution_count": 19,
     "metadata": {},
     "output_type": "execute_result"
    }
   ],
   "source": [
    "y_pred_new=np.array(y_pred_new)\n",
    "y_pred_new"
   ]
  },
  {
   "cell_type": "code",
   "execution_count": 20,
   "id": "855c639b",
   "metadata": {},
   "outputs": [
    {
     "data": {
      "text/plain": [
       "array([-9.99200722e-16, -9.99200722e-16, -3.45387764e+01, -3.45387764e+01,\n",
       "       -9.99200722e-16])"
      ]
     },
     "execution_count": 20,
     "metadata": {},
     "output_type": "execute_result"
    }
   ],
   "source": [
    "np.log(y_pred_new)"
   ]
  },
  {
   "cell_type": "code",
   "execution_count": 22,
   "id": "d9c6efdb",
   "metadata": {},
   "outputs": [
    {
     "data": {
      "text/plain": [
       "17.2696280766844"
      ]
     },
     "execution_count": 22,
     "metadata": {},
     "output_type": "execute_result"
    }
   ],
   "source": [
    "-np.mean(y_true*np.log(y_pred_new)+(1-y_true)*np.log(1-y_pred_new))"
   ]
  },
  {
   "cell_type": "markdown",
   "id": "beb70029",
   "metadata": {},
   "source": [
    "### Mean Square Error"
   ]
  },
  {
   "cell_type": "code",
   "execution_count": 23,
   "id": "1a6ed035",
   "metadata": {},
   "outputs": [
    {
     "name": "stdout",
     "output_type": "stream",
     "text": [
      "Total error:  1.83\n",
      "Mean Squared Error:  0.366\n"
     ]
    }
   ],
   "source": [
    "def mse(y_predicted,y_true):\n",
    "    total_error=0\n",
    "    for yp,yt in zip(y_predicted,y_true):\n",
    "        total_error+=(yp-yt)**2\n",
    "    print(\"Total error: \",total_error)\n",
    "    mae=total_error/len(y_true)\n",
    "    print(\"Mean Squared Error: \",mae)\n",
    "    \n",
    "mse(y_predicted,y_true)"
   ]
  },
  {
   "cell_type": "code",
   "execution_count": 24,
   "id": "3fa91699",
   "metadata": {},
   "outputs": [
    {
     "data": {
      "text/plain": [
       "0.366"
      ]
     },
     "execution_count": 24,
     "metadata": {},
     "output_type": "execute_result"
    }
   ],
   "source": [
    "np.mean((y_predicted-y_true)**2)"
   ]
  }
 ],
 "metadata": {
  "kernelspec": {
   "display_name": "Python 3 (ipykernel)",
   "language": "python",
   "name": "python3"
  },
  "language_info": {
   "codemirror_mode": {
    "name": "ipython",
    "version": 3
   },
   "file_extension": ".py",
   "mimetype": "text/x-python",
   "name": "python",
   "nbconvert_exporter": "python",
   "pygments_lexer": "ipython3",
   "version": "3.9.7"
  }
 },
 "nbformat": 4,
 "nbformat_minor": 5
}
